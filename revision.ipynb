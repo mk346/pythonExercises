{
 "cells": [
  {
   "cell_type": "code",
   "execution_count": 5,
   "metadata": {},
   "outputs": [
    {
     "name": "stdout",
     "output_type": "stream",
     "text": [
      "2\n"
     ]
    }
   ],
   "source": [
    "b = \" Hello, Woorld \"\n",
    "a = b.strip()\n",
    "c = a.replace(\"Hello\",\"Hi\")\n",
    "print(c.count(\"o\"))\n"
   ]
  },
  {
   "cell_type": "code",
   "execution_count": 6,
   "metadata": {},
   "outputs": [
    {
     "name": "stdout",
     "output_type": "stream",
     "text": [
      "Your name is:  Caleb\n",
      "Your age is:  45\n"
     ]
    }
   ],
   "source": [
    "class Person:\n",
    "    def __init__(self,name,age): # constructor\n",
    "        self.name = name\n",
    "        self.age = age\n",
    "    def person(self):\n",
    "        print(\"Your name is: \",self.name)\n",
    "        print(\"Your age is: \",self.age)\n",
    "P = Person('Caleb',45)\n",
    "P.person()\n",
    "        "
   ]
  },
  {
   "cell_type": "code",
   "execution_count": 14,
   "metadata": {},
   "outputs": [
    {
     "name": "stdout",
     "output_type": "stream",
     "text": [
      "array('i', [1, 2, 3])\n",
      "array('i', [1, 2, 3])\n",
      "array('i', [1, 2, 3])\n"
     ]
    }
   ],
   "source": [
    "import array\n",
    "a = [\"joe\",\"caleb\",\"mercy\"]\n",
    "b = array.array('i',[1,2,3])\n",
    "for i in b:\n",
    "    print(b)"
   ]
  },
  {
   "cell_type": "code",
   "execution_count": 17,
   "metadata": {},
   "outputs": [
    {
     "name": "stdout",
     "output_type": "stream",
     "text": [
      "['volvo', 'toyota', 'BMW', 'mercedez']\n"
     ]
    }
   ],
   "source": [
    "mydict = {\n",
    "    'cars': ['volvo','toyota','BMW'],\n",
    "    'fruits': ['mango','pineapple','apple']\n",
    "}\n",
    "mydict['cars'].append('mercedez')\n",
    "print(mydict['cars'])\n"
   ]
  },
  {
   "cell_type": "code",
   "execution_count": 4,
   "metadata": {},
   "outputs": [
    {
     "name": "stdout",
     "output_type": "stream",
     "text": [
      "20\n",
      "30\n",
      "40\n",
      "79\n",
      "50\n"
     ]
    }
   ],
   "source": [
    "marks =[] # empty array for storing the marks\n",
    "students = [1,2,3,4,5] # create a dummy array for looping the number of students you want to capture marks for\n",
    "for i in students:\n",
    "    marks.append(int(input(\"Enter student marks: \"))) # append student marks to the array\n",
    "    if len(marks) == len(students): # stop the loop if 5 students have been captured\n",
    "        for x in marks: # loop through the marks captured and print them\n",
    "            print(x)\n",
    "\n"
   ]
  },
  {
   "cell_type": "code",
   "execution_count": 3,
   "metadata": {},
   "outputs": [
    {
     "name": "stdout",
     "output_type": "stream",
     "text": [
      "Mango\n",
      "Pineapple\n",
      "Apple\n",
      "Watermelon\n",
      "Grapes\n"
     ]
    }
   ],
   "source": [
    "fruits = [\"Mango\",\"Pineapple\",\"Apple\",\"Pawpaw\",\"Watermelon\",\"Grapes\"]\n",
    "for x in fruits:\n",
    "    if x == \"Pawpaw\":\n",
    "        continue\n",
    "    print(x)\n"
   ]
  },
  {
   "cell_type": "code",
   "execution_count": 1,
   "metadata": {},
   "outputs": [
    {
     "name": "stdout",
     "output_type": "stream",
     "text": [
      "b'hello there'\n"
     ]
    }
   ],
   "source": [
    "string = \"hello there\"\n",
    "print(string.encode())"
   ]
  },
  {
   "cell_type": "code",
   "execution_count": 4,
   "metadata": {},
   "outputs": [
    {
     "name": "stdout",
     "output_type": "stream",
     "text": [
      "0\n",
      "5\n",
      "10\n",
      "15\n",
      "20\n",
      "25\n"
     ]
    }
   ],
   "source": [
    "for x in range(0,30,5):\n",
    "    print(x)"
   ]
  },
  {
   "cell_type": "code",
   "execution_count": 25,
   "metadata": {},
   "outputs": [
    {
     "name": "stdout",
     "output_type": "stream",
     "text": [
      "x\n",
      "x x\n",
      "x x x\n",
      "x x x x\n",
      "x x x x x\n",
      "x\n",
      "x x\n",
      "x x x\n",
      "x x x x\n",
      "x x x x x\n",
      "x\n",
      "x x\n",
      "x x x\n",
      "x x x x\n",
      "x x x x x\n",
      "x\n",
      "x x\n",
      "x x x\n",
      "x x x x\n",
      "x x x x x\n",
      "x\n",
      "x x\n",
      "x x x\n",
      "x x x x\n",
      "x x x x x\n",
      "Done\n"
     ]
    }
   ],
   "source": [
    "for x in range(5):\n",
    "    print(\"x\")\n",
    "    print(\"x x\")\n",
    "    print(\"x x x\")\n",
    "    print(\"x x x x\")\n",
    "    print(\"x x x x x\")\n",
    "else:\n",
    "    print(\"Done\")"
   ]
  },
  {
   "cell_type": "code",
   "execution_count": 5,
   "metadata": {},
   "outputs": [
    {
     "name": "stdout",
     "output_type": "stream",
     "text": [
      "9\n",
      "8\n",
      "7\n",
      "6\n",
      "4\n",
      "3\n",
      "2\n",
      "1\n",
      "0\n"
     ]
    }
   ],
   "source": [
    "x = 10\n",
    "while x > 0: # print numbers from 9 to 0 skips 5\n",
    "    x-= 1\n",
    "    if x == 5:\n",
    "        continue\n",
    "    print(x)"
   ]
  },
  {
   "cell_type": "code",
   "execution_count": 9,
   "metadata": {},
   "outputs": [
    {
     "name": "stdout",
     "output_type": "stream",
     "text": [
      "10\n",
      "12\n",
      "14\n",
      "16\n",
      "18\n",
      "20\n",
      "22\n",
      "24\n",
      "26\n",
      "28\n",
      "30\n",
      "32\n",
      "34\n",
      "36\n",
      "38\n",
      "40\n",
      "42\n",
      "44\n",
      "46\n",
      "48\n",
      "50\n",
      "10\n",
      "12\n",
      "14\n",
      "16\n",
      "18\n",
      "20\n",
      "22\n",
      "24\n",
      "26\n",
      "28\n",
      "30\n",
      "32\n",
      "34\n",
      "36\n",
      "38\n",
      "40\n",
      "42\n",
      "44\n",
      "46\n",
      "48\n",
      "50\n"
     ]
    }
   ],
   "source": [
    "# print all even numbers between 10 and 50\n",
    "#method 1\n",
    "for x in range(10,51): # range from 10 to 50\n",
    "    if x % 2 == 1: #checks odd numbers within the range and skips them\n",
    "        continue\n",
    "    print(x) # will print even numbers only\n",
    "    \n",
    "#method 2\n",
    "for x in range(10,51):\n",
    "    if x % 2 == 0:\n",
    "        print(x)\n",
    "    "
   ]
  },
  {
   "cell_type": "code",
   "execution_count": 17,
   "metadata": {},
   "outputs": [
    {
     "name": "stdout",
     "output_type": "stream",
     "text": [
      "10\n",
      "12\n",
      "14\n",
      "16\n",
      "18\n",
      "20\n",
      "22\n",
      "24\n",
      "26\n",
      "28\n",
      "30\n",
      "32\n",
      "34\n",
      "36\n",
      "38\n",
      "44\n",
      "46\n",
      "48\n",
      "50\n"
     ]
    }
   ],
   "source": [
    "x = 10\n",
    "while x <= 50:\n",
    "    if x % 2 == 0 and x != 40 and x != 42: # checks for even numbers between 10 to 50 and prints them, skips 40 and 42\n",
    "        print(x)\n",
    "    x += 1\n"
   ]
  },
  {
   "cell_type": "code",
   "execution_count": 66,
   "metadata": {},
   "outputs": [
    {
     "name": "stdout",
     "output_type": "stream",
     "text": [
      "22.714285714285715\n"
     ]
    }
   ],
   "source": [
    "temp = [23,23,24,24,22,21,22]\n",
    "tot = sum(temp)\n",
    "mean = tot/len(temp)\n",
    "print(mean)\n",
    "    \n"
   ]
  },
  {
   "cell_type": "code",
   "execution_count": 80,
   "metadata": {},
   "outputs": [
    {
     "name": "stdout",
     "output_type": "stream",
     "text": [
      "22.714285714285715\n"
     ]
    }
   ],
   "source": [
    "dict = {'Mon': 23,'Tue': 23,'Wed': 24,'Thu': 24,'Fri': 22,'Sat': 21,'Sun': 22}\n",
    "#print(dict.values())\n",
    "total = sum(dict.values())\n",
    "#print(total)\n",
    "mean = total / len(dict)\n",
    "print(mean)"
   ]
  },
  {
   "cell_type": "code",
   "execution_count": 7,
   "metadata": {},
   "outputs": [
    {
     "name": "stdout",
     "output_type": "stream",
     "text": [
      "22.714285714285715\n"
     ]
    }
   ],
   "source": [
    "import numpy as np\n",
    "temp = [23,23,24,24,22,21,22]\n",
    "print(np.mean(temp))\n",
    "\n"
   ]
  },
  {
   "cell_type": "code",
   "execution_count": 84,
   "metadata": {},
   "outputs": [
    {
     "name": "stdout",
     "output_type": "stream",
     "text": [
      "31\n",
      "35\n",
      "37\n",
      "39\n",
      "41\n",
      "43\n",
      "45\n",
      "47\n",
      "49\n",
      "51\n",
      "53\n",
      "57\n",
      "59\n"
     ]
    }
   ],
   "source": [
    "for x in range(30,61): # numbers between 30 and 60\n",
    "    if x % 2 == 1: # checks for odd numbers\n",
    "        if x % 11 == 0: # checks for numbers divisible by 11 and skips them\n",
    "            continue\n",
    "        print(x) # prints the odd numbers while skipping those divisible by 11"
   ]
  },
  {
   "cell_type": "code",
   "execution_count": 3,
   "metadata": {},
   "outputs": [
    {
     "name": "stdout",
     "output_type": "stream",
     "text": [
      "joe\n"
     ]
    }
   ],
   "source": [
    "phrase = input(\"Enter a phrase: \")\n",
    "if len(phrase) == 3:\n",
    "    print(phrase)\n",
    "else:\n",
    "    print(\"None\")"
   ]
  },
  {
   "cell_type": "code",
   "execution_count": 25,
   "metadata": {},
   "outputs": [
    {
     "name": "stdout",
     "output_type": "stream",
     "text": [
      "452.3893\n"
     ]
    }
   ],
   "source": [
    "import math\n",
    "radius = int(input(\"Enter the radius of the Circle: \"))\n",
    "def compute(r):\n",
    "    area = format(math.pi * r *r,'.4f')\n",
    "    print(area)\n",
    "compute(radius)"
   ]
  },
  {
   "cell_type": "code",
   "execution_count": 20,
   "metadata": {},
   "outputs": [
    {
     "name": "stdout",
     "output_type": "stream",
     "text": [
      "Hello! Welcome to demofile.txt\n",
      "This file is for testing purposes.\n",
      "Good Luck!\n"
     ]
    }
   ],
   "source": [
    "f = open(\"text.txt\",\"r\")\n",
    "print(f.read())"
   ]
  },
  {
   "cell_type": "code",
   "execution_count": 21,
   "metadata": {},
   "outputs": [
    {
     "name": "stdout",
     "output_type": "stream",
     "text": [
      "Hello! Welcome to demofile.txt\n",
      "\n"
     ]
    }
   ],
   "source": [
    "# readline function\n",
    "f = open(\"text.txt\",\"r\")\n",
    "print(f.readline()) # print the first line"
   ]
  },
  {
   "cell_type": "code",
   "execution_count": 31,
   "metadata": {},
   "outputs": [
    {
     "name": "stdout",
     "output_type": "stream",
     "text": [
      "Hello! Welcome to demofile.txt\n",
      "This file is for testing purposes.\n",
      "Good Luck!\n",
      "this is an additional \n",
      "this is an additional \n",
      "\n"
     ]
    }
   ],
   "source": [
    "f = open(\"text.txt\",\"a\")\n",
    "f.write(\"this is an additional \\n\")\n",
    "new = open(\"text.txt\",\"r\")\n",
    "print(new.read())"
   ]
  },
  {
   "cell_type": "code",
   "execution_count": 35,
   "metadata": {},
   "outputs": [
    {
     "name": "stdout",
     "output_type": "stream",
     "text": [
      "Hello my name is caleb \n",
      "am a software developer\n"
     ]
    }
   ],
   "source": [
    "f = open(\"new.txt\",\"w\")\n",
    "f.write(\"Hello my name is caleb \\nam a software developer\")\n",
    "f = open(\"new.txt\",\"r\")\n",
    "print(f.read())"
   ]
  },
  {
   "cell_type": "code",
   "execution_count": 39,
   "metadata": {},
   "outputs": [
    {
     "name": "stdout",
     "output_type": "stream",
     "text": [
      "How have you been\n"
     ]
    }
   ],
   "source": [
    "f = open(\"mytext.txt\",\"w\")\n",
    "f.write(\"How have you been\")\n",
    "f = open(\"mytext.txt\",\"r\")\n",
    "print(f.read())\n",
    "f.close()"
   ]
  },
  {
   "cell_type": "code",
   "execution_count": 42,
   "metadata": {},
   "outputs": [],
   "source": [
    "import os\n",
    "os.remove(\"mytext.txt\") # deletes a file NB: The file must be closed first\n"
   ]
  },
  {
   "cell_type": "code",
   "execution_count": 51,
   "metadata": {},
   "outputs": [],
   "source": [
    "# create and delete folders in python\n",
    "import os\n",
    "os.mkdir(\"myfiles2\") # creates a directory\n",
    "f = open(\"myfiles2/newtxt.txt\",\"w\") # creates a file within that folder\n",
    "# deleting the folder\n",
    "os.rmdir(\"myfiles2\") # DIRECTORY MUST BE EMPTY\n"
   ]
  },
  {
   "cell_type": "code",
   "execution_count": 60,
   "metadata": {},
   "outputs": [
    {
     "name": "stdout",
     "output_type": "stream",
     "text": [
      "[1 2 3 4 5 2 3]\n"
     ]
    }
   ],
   "source": [
    "# NUMPY\n",
    "import numpy as np\n",
    "arr = np.array([1,2,3,4,5,2,3])\n",
    "print(arr)"
   ]
  },
  {
   "cell_type": "code",
   "execution_count": 4,
   "metadata": {},
   "outputs": [
    {
     "data": {
      "text/plain": [
       "Text(0.5, 1.0, 'cars vs ratings')"
      ]
     },
     "execution_count": 4,
     "metadata": {},
     "output_type": "execute_result"
    },
    {
     "data": {
      "image/png": "[encoded data removed]",
      "text/plain": [
       "<Figure size 640x480 with 1 Axes>"
      ]
     },
     "metadata": {},
     "output_type": "display_data"
    }
   ],
   "source": [
    "# pandas\n",
    "import pandas as pd\n",
    "import matplotlib.pyplot as plt\n",
    "import seaborn as sns\n",
    "dataset = {\n",
    "    'cars' : [\"BMW\",\"Toyota\",\"Mercedez\",\"Audi\",\"Ford\",\"Volvo\"],\n",
    "    'carratings': [10,4,9.5,7,8.4,5],\n",
    "    'phones' : ['Iphone','Samsung','Mi','Oppo','Infinix','Nokia'],\n",
    "    'phoneratings': [10,7.5,8.9,6.4,3,4.9]\n",
    "    \n",
    "}\n",
    "mydata = pd.DataFrame(dataset)\n",
    "mydata\n",
    "# sns.scatterplot(x = 'cars', y = 'carratings', data = mydata)\n",
    "x = mydata['cars']\n",
    "y = mydata['carratings']\n",
    "plt.plot(x, y, color = 'blue')\n",
    "plt.ylabel(\"carratings\")\n",
    "plt.xlabel(\"cars\")\n",
    "plt.title(\"cars vs ratings\")\n"
   ]
  },
  {
   "cell_type": "code",
   "execution_count": 12,
   "metadata": {},
   "outputs": [
    {
     "name": "stdout",
     "output_type": "stream",
     "text": [
      "     cars  carratings   phones  phoneratings\n",
      "0     BMW        10.0   Iphone          10.0\n",
      "1  Toyota         4.0  Samsung           7.5\n",
      "<class 'pandas.core.frame.DataFrame'>\n",
      "RangeIndex: 6 entries, 0 to 5\n",
      "Data columns (total 4 columns):\n",
      " #   Column        Non-Null Count  Dtype  \n",
      "---  ------        --------------  -----  \n",
      " 0   cars          6 non-null      object \n",
      " 1   carratings    6 non-null      float64\n",
      " 2   phones        6 non-null      object \n",
      " 3   phoneratings  6 non-null      float64\n",
      "dtypes: float64(2), object(2)\n",
      "memory usage: 320.0+ bytes\n"
     ]
    }
   ],
   "source": [
    "# pandas\n",
    "import pandas as pd\n",
    "import matplotlib.pyplot as plt\n",
    "import seaborn as sns\n",
    "dataset = {\n",
    "    'cars' : [\"BMW\",\"Toyota\",\"Mercedez\",\"Audi\",\"Ford\",\"Volvo\"],\n",
    "    'carratings': [10,4,9.5,7,8.4,5],\n",
    "    'phones' : ['Iphone','Samsung','Mi','Oppo','Infinix','Nokia'],\n",
    "    'phoneratings': [10,7.5,8.9,6.4,3,4.9]\n",
    "    \n",
    "}\n",
    "mydata = pd.DataFrame(dataset)\n",
    "print(mydata.loc[[0,1]]) #prints the first 2 rows\n",
    "mydata.info()"
   ]
  },
  {
   "cell_type": "code",
   "execution_count": 1,
   "metadata": {},
   "outputs": [
    {
     "data": {
      "text/plain": [
       "Text(0.5, 1.0, 'Example of a graph using matplot lib')"
      ]
     },
     "execution_count": 1,
     "metadata": {},
     "output_type": "execute_result"
    },
    {
     "data": {
      "image/png": "[encoded data removed]",
      "text/plain": [
       "<Figure size 640x480 with 1 Axes>"
      ]
     },
     "metadata": {},
     "output_type": "display_data"
    }
   ],
   "source": [
    "import matplotlib.pyplot as plt\n",
    "import numpy as np\n",
    "x = np.array([0,6])\n",
    "y = np.array([0,250])\n",
    "plt.plot(x,y, color = 'blue')\n",
    "plt.xlabel(\"X-Axis\")\n",
    "plt.ylabel(\"Y-Axis\")\n",
    "plt.title(\"Example of a graph using matplot lib\")"
   ]
  },
  {
   "cell_type": "code",
   "execution_count": 20,
   "metadata": {},
   "outputs": [
    {
     "data": {
      "text/plain": [
       "[<matplotlib.lines.Line2D at 0x13032286690>]"
      ]
     },
     "execution_count": 20,
     "metadata": {},
     "output_type": "execute_result"
    },
    {
     "data": {
      "image/png": "[encoded data removed]",
      "text/plain": [
       "<Figure size 640x480 with 2 Axes>"
      ]
     },
     "metadata": {},
     "output_type": "display_data"
    }
   ],
   "source": [
    "import matplotlib.pyplot as plt\n",
    "import numpy as np\n",
    "x = np.array([0,10])\n",
    "y = np.array([0,50])\n",
    "plt.subplot(1,2,2)\n",
    "plt.plot(x,y, color = 'red')\n",
    "x = np.array([0,20])\n",
    "y = np.array([0,100])\n",
    "plt.subplot(1,2,1)\n",
    "plt.plot(x,y, color = 'blue')\n"
   ]
  },
  {
   "cell_type": "code",
   "execution_count": 32,
   "metadata": {},
   "outputs": [
    {
     "data": {
      "text/plain": [
       "<matplotlib.collections.PathCollection at 0x1303599af50>"
      ]
     },
     "execution_count": 32,
     "metadata": {},
     "output_type": "execute_result"
    },
    {
     "data": {
      "image/png": "[encoded data removed]",
      "text/plain": [
       "<Figure size 640x480 with 1 Axes>"
      ]
     },
     "metadata": {},
     "output_type": "display_data"
    }
   ],
   "source": [
    "# scatter plot\n",
    "import matplotlib.pyplot as plt\n",
    "import numpy as np\n",
    "x = np.array([0,10,20,30,40,50,60,70,80,90])\n",
    "y = np.array([0,50,66,90,34,23,45,67,89,2])\n",
    "plt.scatter(x,y,color = \"red\")"
   ]
  },
  {
   "cell_type": "code",
   "execution_count": 31,
   "metadata": {},
   "outputs": [
    {
     "data": {
      "text/plain": [
       "<BarContainer object of 10 artists>"
      ]
     },
     "execution_count": 31,
     "metadata": {},
     "output_type": "execute_result"
    },
    {
     "data": {
      "image/png": "[encoded data removed]",
      "text/plain": [
       "<Figure size 640x480 with 1 Axes>"
      ]
     },
     "metadata": {},
     "output_type": "display_data"
    }
   ],
   "source": [
    "# bar graph\n",
    "import matplotlib.pyplot as plt\n",
    "import numpy as np\n",
    "x = np.array([0,10,20,30,40,50,60,70,80,90])\n",
    "y = np.array([0,50,66,90,34,23,45,67,89,2])\n",
    "plt.bar(x,y,color = \"red\")"
   ]
  },
  {
   "cell_type": "code",
   "execution_count": 26,
   "metadata": {},
   "outputs": [
    {
     "data": {
      "text/plain": [
       "(array([1., 0., 0., 0., 0., 0., 0., 0., 0.]),\n",
       " array([0., 1., 2., 3., 4., 5., 6., 7., 8., 9.]),\n",
       " <BarContainer object of 9 artists>)"
      ]
     },
     "execution_count": 26,
     "metadata": {},
     "output_type": "execute_result"
    },
    {
     "data": {
      "image/png": "[encoded data removed]",
      "text/plain": [
       "<Figure size 640x480 with 1 Axes>"
      ]
     },
     "metadata": {},
     "output_type": "display_data"
    }
   ],
   "source": [
    "# histogram graph\n",
    "import matplotlib.pyplot as plt\n",
    "import numpy as np\n",
    "x = np.array([0,10,20,30,40,50,60,70,80,90])\n",
    "y = np.array([0,1,2,3,4,5,6,7,8,9])\n",
    "plt.hist(x,y,color = \"blue\")"
   ]
  },
  {
   "cell_type": "code",
   "execution_count": 35,
   "metadata": {},
   "outputs": [
    {
     "name": "stdout",
     "output_type": "stream",
     "text": [
      "Total Marks \t Grade\n",
      "60.0 \t\t B\n"
     ]
    }
   ],
   "source": [
    "# grade and marks\n",
    "cat1 = int(input(\"Enter cat 1 marks: \"))\n",
    "cat2 = int(input(\"Enter cat 2 marks: \"))\n",
    "exam = int(input(\"Enter final exam mark\"))\n",
    "aggcat = (cat1 + cat2) / 2\n",
    "total = aggcat + exam\n",
    "if total >= 70 and total <= 100:\n",
    "    grade = 'A'\n",
    "elif total >= 60 and total <= 69:\n",
    "    grade = 'B'\n",
    "elif total >= 50 and total <= 59:\n",
    "    grade = 'C'\n",
    "elif total >= 40 and total <= 49:\n",
    "    grade = 'D'\n",
    "elif total >= 0 and total <= 39:\n",
    "    grade = 'F'\n",
    "print(\"Total Marks\",\"\\t\",\"Grade\")\n",
    "print(total,\"\\t\\t\" ,grade)"
   ]
  }
 ],
 "metadata": {
  "kernelspec": {
   "display_name": "Python 3",
   "language": "python",
   "name": "python3"
  },
  "language_info": {
   "codemirror_mode": {
    "name": "ipython",
    "version": 3
   },
   "file_extension": ".py",
   "mimetype": "text/x-python",
   "name": "python",
   "nbconvert_exporter": "python",
   "pygments_lexer": "ipython3",
   "version": "3.11.0"
  },
  "orig_nbformat": 4,
  "vscode": {
   "interpreter": {
    "hash": "5238573367df39f7286bb46f9ff5f08f63a01a80960060ce41e3c79b190280fa"
   }
  }
 },
 "nbformat": 4,
 "nbformat_minor": 2
}
